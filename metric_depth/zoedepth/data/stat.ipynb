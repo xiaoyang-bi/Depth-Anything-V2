{
 "cells": [
  {
   "cell_type": "code",
   "execution_count": null,
   "id": "46396734",
   "metadata": {},
   "outputs": [
    {
     "name": "stdout",
     "output_type": "stream",
     "text": [
      "\n",
      "Calculating max depth using GPU...\n"
     ]
    },
    {
     "name": "stderr",
     "output_type": "stream",
     "text": [
      "Processing train set:   0%|          | 0/4071 [00:00<?, ?it/s]"
     ]
    },
    {
     "name": "stderr",
     "output_type": "stream",
     "text": [
      "Processing train set:   0%|          | 2/4071 [00:00<15:04,  4.50it/s]"
     ]
    },
    {
     "name": "stdout",
     "output_type": "stream",
     "text": [
      "tensor([[[48980., 48974., 48967.,  ..., 51517., 51510., 51503.],\n",
      "         [48987., 48987., 48980.,  ..., 51510., 51510., 51503.],\n",
      "         [48974., 48987., 48987.,  ..., 51510., 51510., 51503.],\n",
      "         ...,\n",
      "         [24654., 24654., 24654.,  ..., 24654., 24654., 24654.],\n",
      "         [24628., 24628., 24628.,  ..., 24628., 24628., 24628.],\n",
      "         [24595., 24595., 24595.,  ..., 24595., 24595., 24595.]]],\n",
      "       device='cuda:0')\n",
      "tensor([[[50907., 50907., 50914.,  ..., 51418., 51418., 51418.],\n",
      "         [50907., 50907., 50914.,  ..., 51418., 51418., 51418.],\n",
      "         [50907., 50914., 50920.,  ..., 51418., 51418., 51418.],\n",
      "         ...,\n",
      "         [31292., 31292., 31292.,  ..., 31292., 31292., 31292.],\n",
      "         [31266., 31266., 31266.,  ..., 31266., 31266., 31266.],\n",
      "         [31247., 31247., 31247.,  ..., 31247., 31247., 31247.]]],\n",
      "       device='cuda:0')\n"
     ]
    },
    {
     "name": "stderr",
     "output_type": "stream",
     "text": [
      "Processing train set:   0%|          | 3/4071 [00:00<13:32,  5.01it/s]"
     ]
    },
    {
     "name": "stdout",
     "output_type": "stream",
     "text": [
      "tensor([[[49701., 49708., 49708.,  ..., 52015., 52008., 51903.],\n",
      "         [49701., 49708., 49714.,  ..., 52002., 52002., 51903.],\n",
      "         [49701., 49708., 49714.,  ..., 51982., 51982., 51798.],\n",
      "         ...,\n",
      "         [25833., 25833., 25833.,  ..., 25833., 25833., 25833.],\n",
      "         [25801., 25801., 25801.,  ..., 25801., 25801., 25801.],\n",
      "         [25768., 25768., 25768.,  ..., 25768., 25768., 25768.]]],\n",
      "       device='cuda:0')\n"
     ]
    },
    {
     "name": "stderr",
     "output_type": "stream",
     "text": [
      "Processing train set:   0%|          | 3/4071 [00:04<1:36:45,  1.43s/it]\n"
     ]
    },
    {
     "ename": "KeyboardInterrupt",
     "evalue": "",
     "output_type": "error",
     "traceback": [
      "\u001b[0;31m---------------------------------------------------------------------------\u001b[0m",
      "\u001b[0;31mKeyboardInterrupt\u001b[0m                         Traceback (most recent call last)",
      "Cell \u001b[0;32mIn[5], line 65\u001b[0m\n\u001b[1;32m     63\u001b[0m \u001b[38;5;28;01mif\u001b[39;00m torch\u001b[38;5;241m.\u001b[39mcuda\u001b[38;5;241m.\u001b[39mis_available():\n\u001b[1;32m     64\u001b[0m     \u001b[38;5;28mprint\u001b[39m(\u001b[38;5;124m\"\u001b[39m\u001b[38;5;130;01m\\n\u001b[39;00m\u001b[38;5;124mCalculating max depth using GPU...\u001b[39m\u001b[38;5;124m\"\u001b[39m)\n\u001b[0;32m---> 65\u001b[0m     train_max_gpu \u001b[38;5;241m=\u001b[39m \u001b[43mfind_max_depth_gpu\u001b[49m\u001b[43m(\u001b[49m\u001b[43mdata_root\u001b[49m\u001b[43m,\u001b[49m\u001b[43m \u001b[49m\u001b[38;5;124;43m\"\u001b[39;49m\u001b[38;5;124;43mtrain\u001b[39;49m\u001b[38;5;124;43m\"\u001b[39;49m\u001b[43m)\u001b[49m\n\u001b[1;32m     66\u001b[0m     test_max_gpu \u001b[38;5;241m=\u001b[39m find_max_depth_gpu(data_root, \u001b[38;5;124m\"\u001b[39m\u001b[38;5;124mtest\u001b[39m\u001b[38;5;124m\"\u001b[39m)\n\u001b[1;32m     68\u001b[0m \u001b[38;5;28mprint\u001b[39m(\u001b[38;5;124mf\u001b[39m\u001b[38;5;124m\"\u001b[39m\u001b[38;5;130;01m\\n\u001b[39;00m\u001b[38;5;124mResults:\u001b[39m\u001b[38;5;124m\"\u001b[39m)\n",
      "Cell \u001b[0;32mIn[5], line 43\u001b[0m, in \u001b[0;36mfind_max_depth_gpu\u001b[0;34m(data_root, split, device)\u001b[0m\n\u001b[1;32m     40\u001b[0m max_depth \u001b[38;5;241m=\u001b[39m torch\u001b[38;5;241m.\u001b[39mtensor(\u001b[38;5;241m0.0\u001b[39m)\u001b[38;5;241m.\u001b[39mto(device)\n\u001b[1;32m     42\u001b[0m \u001b[38;5;28;01mfor\u001b[39;00m i \u001b[38;5;129;01min\u001b[39;00m tqdm(\u001b[38;5;28mrange\u001b[39m(\u001b[38;5;28mlen\u001b[39m(dataset)), desc\u001b[38;5;241m=\u001b[39m\u001b[38;5;124mf\u001b[39m\u001b[38;5;124m\"\u001b[39m\u001b[38;5;124mProcessing \u001b[39m\u001b[38;5;132;01m{\u001b[39;00msplit\u001b[38;5;132;01m}\u001b[39;00m\u001b[38;5;124m set\u001b[39m\u001b[38;5;124m\"\u001b[39m):\n\u001b[0;32m---> 43\u001b[0m     sample \u001b[38;5;241m=\u001b[39m \u001b[43mdataset\u001b[49m\u001b[43m[\u001b[49m\u001b[43mi\u001b[49m\u001b[43m]\u001b[49m\n\u001b[1;32m     44\u001b[0m     depth \u001b[38;5;241m=\u001b[39m sample[\u001b[38;5;124m'\u001b[39m\u001b[38;5;124mdepth\u001b[39m\u001b[38;5;124m'\u001b[39m]\u001b[38;5;241m.\u001b[39mto(device)\n\u001b[1;32m     46\u001b[0m     \u001b[38;5;28mprint\u001b[39m(depth)\n",
      "File \u001b[0;32m~/Depth-Anything/metric_depth/zoedepth/data/sn.py:140\u001b[0m, in \u001b[0;36mSNDataset.__getitem__\u001b[0;34m(self, index)\u001b[0m\n\u001b[1;32m    138\u001b[0m color_path, depth_path \u001b[38;5;241m=\u001b[39m \u001b[38;5;28mself\u001b[39m\u001b[38;5;241m.\u001b[39msamples[im_index]\n\u001b[1;32m    139\u001b[0m \u001b[38;5;66;03m# print(color_path)\u001b[39;00m\n\u001b[0;32m--> 140\u001b[0m image \u001b[38;5;241m=\u001b[39m torch\u001b[38;5;241m.\u001b[39mfrom_numpy(\u001b[43mnp\u001b[49m\u001b[38;5;241;43m.\u001b[39;49m\u001b[43marray\u001b[49m\u001b[43m(\u001b[49m\u001b[43mImage\u001b[49m\u001b[38;5;241;43m.\u001b[39;49m\u001b[43mopen\u001b[49m\u001b[43m(\u001b[49m\u001b[43mcolor_path\u001b[49m\u001b[43m)\u001b[49m\u001b[38;5;241;43m.\u001b[39;49m\u001b[43mconvert\u001b[49m\u001b[43m(\u001b[49m\u001b[38;5;124;43m'\u001b[39;49m\u001b[38;5;124;43mRGB\u001b[39;49m\u001b[38;5;124;43m'\u001b[39;49m\u001b[43m)\u001b[49m\u001b[43m)\u001b[49m\u001b[38;5;241;43m.\u001b[39;49m\u001b[43mastype\u001b[49m\u001b[43m(\u001b[49m\u001b[38;5;124;43m'\u001b[39;49m\u001b[38;5;124;43mfloat32\u001b[39;49m\u001b[38;5;124;43m'\u001b[39;49m\u001b[43m)\u001b[49m)\u001b[38;5;241m.\u001b[39mpermute(\u001b[38;5;241m2\u001b[39m, \u001b[38;5;241m0\u001b[39m, \u001b[38;5;241m1\u001b[39m) \u001b[38;5;241m/\u001b[39m \u001b[38;5;241m255.\u001b[39m\n\u001b[1;32m    141\u001b[0m image \u001b[38;5;241m=\u001b[39m  F\u001b[38;5;241m.\u001b[39minterpolate(image\u001b[38;5;241m.\u001b[39munsqueeze(\u001b[38;5;241m1\u001b[39m), size\u001b[38;5;241m=\u001b[39m(\u001b[38;5;241m384\u001b[39m, \u001b[38;5;241m704\u001b[39m), mode\u001b[38;5;241m=\u001b[39m\u001b[38;5;124m'\u001b[39m\u001b[38;5;124mbilinear\u001b[39m\u001b[38;5;124m'\u001b[39m)\u001b[38;5;241m.\u001b[39msqueeze(\u001b[38;5;241m1\u001b[39m)\n\u001b[1;32m    142\u001b[0m \u001b[38;5;66;03m# import pdb; pdb.set_trace()\u001b[39;00m\n",
      "\u001b[0;31mKeyboardInterrupt\u001b[0m: "
     ]
    }
   ],
   "source": [
    "import torch\n",
    "import numpy as np\n",
    "from multiprocessing import Pool\n",
    "from tqdm import tqdm\n",
    "\n",
    "def process_batch(samples_batch):\n",
    "    \"\"\"处理一个batch的样本，返回最大depth值\"\"\"\n",
    "    batch_max = 0\n",
    "    for sample in samples_batch:\n",
    "        depth_path = sample[1]  # (color_path, depth_path)\n",
    "        depth_pil = Image.open(depth_path)\n",
    "        depth_np = np.array(depth_pil).astype('float32')\n",
    "        if depth_np.ndim == 3:\n",
    "            depth_np = depth_np[:, :, 0]\n",
    "        current_max = np.max(depth_np)\n",
    "        if current_max > batch_max:\n",
    "            batch_max = current_max\n",
    "    return batch_max\n",
    "\n",
    "def find_max_depth_fast(data_root, split, batch_size=1000, num_workers=4):\n",
    "    \"\"\"快速查找最大depth值（使用多进程）\"\"\"\n",
    "    dataset = SNDataset(data_root=data_root, split=split)\n",
    "    samples = dataset.samples\n",
    "    \n",
    "    # 分割数据为多个batch\n",
    "    batches = [samples[i:i + batch_size] \n",
    "               for i in range(0, len(samples), batch_size)]\n",
    "    \n",
    "    # 使用多进程并行处理\n",
    "    with Pool(num_workers) as pool:\n",
    "        results = list(tqdm(pool.imap(process_batch, batches), \n",
    "                           total=len(batches),\n",
    "                       desc=f\"Processing {split} set\"))\n",
    "    \n",
    "    return max(results)\n",
    "\n",
    "def find_max_depth_gpu(data_root, split, device='cuda'):\n",
    "    dataset = SNDataset(data_root=data_root, split=split)\n",
    "    max_depth = torch.tensor(0.0).to(device)\n",
    "    \n",
    "    for i in tqdm(range(len(dataset)), desc=f\"Processing {split} set\"):\n",
    "        sample = dataset[i]\n",
    "        depth = sample['depth'].to(device)\n",
    "        \n",
    "        print(depth)\n",
    "        current_max = depth.max()\n",
    "        if current_max > max_depth:\n",
    "            max_depth = current_max\n",
    "    \n",
    "    return max_depth.item()\n",
    "\n",
    "\n",
    "if __name__ == '__main__':\n",
    "    data_root = \"/home/lsk/sn-depth-main/depth-2025\"\n",
    "    \n",
    "    # # 多进程CPU（适合大数据集）\n",
    "    # print(\"Calculating max depth using multi-processing...\")\n",
    "    # train_max = find_max_depth_fast(data_root, \"train\")\n",
    "    # test_max = find_max_depth_fast(data_root, \"test\")\n",
    "    \n",
    "    # 2：GPU\n",
    "    if torch.cuda.is_available():\n",
    "        print(\"\\nCalculating max depth using GPU...\")\n",
    "        train_max_gpu = find_max_depth_gpu(data_root, \"train\")\n",
    "        test_max_gpu = find_max_depth_gpu(data_root, \"test\")\n",
    "    \n",
    "    print(f\"\\nResults:\")\n",
    "    print(f\"Train set max depth (CPU): {train_max}\")\n",
    "    print(f\"Test set max depth (CPU): {test_max}\")\n",
    "    if torch.cuda.is_available():\n",
    "        print(f\"Train set max depth (GPU): {train_max_gpu}\")\n",
    "        print(f\"Test set max depth (GPU): {test_max_gpu}\")"
   ]
  }
 ],
 "metadata": {
  "kernelspec": {
   "display_name": "Python 3",
   "language": "python",
   "name": "python3"
  },
  "language_info": {
   "codemirror_mode": {
    "name": "ipython",
    "version": 3
   },
   "file_extension": ".py",
   "mimetype": "text/x-python",
   "name": "python",
   "nbconvert_exporter": "python",
   "pygments_lexer": "ipython3",
   "version": "3.9.7"
  }
 },
 "nbformat": 4,
 "nbformat_minor": 5
}
